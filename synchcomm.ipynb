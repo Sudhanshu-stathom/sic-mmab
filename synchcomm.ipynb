{
 "cells": [
  {
   "cell_type": "code",
   "execution_count": 1,
   "metadata": {},
   "outputs": [],
   "source": [
    "import numpy as np\n",
    "import matplotlib.pyplot as plt\n",
    "import tqdm\n",
    "from bandits import *\n",
    "from strategies import *"
   ]
  },
  {
   "cell_type": "code",
   "execution_count": 2,
   "metadata": {},
   "outputs": [],
   "source": [
    "synchcommname = 'SIC-MMAB'"
   ]
  },
  {
   "cell_type": "markdown",
   "metadata": {},
   "source": [
    "# Simulate"
   ]
  },
  {
   "cell_type": "code",
   "execution_count": null,
   "metadata": {},
   "outputs": [
    {
     "name": "stderr",
     "output_type": "stream",
     "text": [
      "Simulating MCTopM: 100%|██████████| 1/1 [13:07<00:00, 787.73s/it]\n",
      "Simulating SynchComm:   0%|          | 0/1 [00:00<?, ?it/s]"
     ]
    }
   ],
   "source": [
    "horizon = 500000\n",
    "K = 9\n",
    "means = np.linspace(0.9, 0.89, K)\n",
    "nplayers = 6\n",
    "n_simu = 100\n",
    "\n",
    "strategies = [(MCTopM, 'MCTopM', {'M':nplayers}), (SynchComm, 'SynchComm', {})]\n",
    "\n",
    "# try to load for a warm restart\n",
    "try:\n",
    "    scores_1 = np.load('scores/scores_1.npy').item()\n",
    "except FileNotFoundError:\n",
    "    scores_1 = {}\n",
    "    \n",
    "try:  \n",
    "    raw_scores_1 = np.load('scores/raw_scores_1.npy').item()\n",
    "except:\n",
    "    raw_scores_1 = {}\n",
    "    \n",
    "# if we decide to interrupt to running code, it saves the current state of all the stored scores\n",
    "try:\n",
    "    for strat, strat_name, args in strategies:\n",
    "        if strat_name not in scores_1.keys():\n",
    "            try:\n",
    "                # the number of runs to still do for this algo\n",
    "                nalgo = n_simu-len(raw_scores_1[strat_name])\n",
    "            except KeyError:\n",
    "                # case of algo not loaded (ie 0 run already done)\n",
    "                raw_scores_1[strat_name] = []\n",
    "                nalgo = n_simu\n",
    "            for i in tqdm.tqdm(range(nalgo), desc=\"Simulating {}\".format(strat_name)):\n",
    "                MAB = FullSensingMultiPlayerMAB(means, nplayers=nplayers, strategy=strat, T=horizon, **args)\n",
    "                r, _ = MAB.simulate(horizon)\n",
    "                raw_scores_1[strat_name].append(r)            \n",
    "            scores_1[strat_name] = np.mean(raw_scores_1[strat_name], axis=0)\n",
    "        \n",
    "            del raw_scores_1[strat_name]\n",
    "            del r\n",
    "    \n",
    "    # also saves the scores if we ran the whole algorithm without interrupting\n",
    "    np.save('scores/raw_scores_1.npy', raw_scores_1)\n",
    "    np.save('scores/scores_1.npy', scores_1)\n",
    "    \n",
    "except KeyboardInterrupt:\n",
    "    print('Number of tries ran for %s : %d' %(strat_name, len(raw_scores_1[strat_name])))\n",
    "    np.save('scores/raw_scores_1.npy', raw_scores_1)\n",
    "    np.save('scores/scores_1.npy', scores_1)\n",
    "    del raw_scores_1"
   ]
  },
  {
   "cell_type": "code",
   "execution_count": 9,
   "metadata": {},
   "outputs": [
    {
     "ename": "KeyError",
     "evalue": "'SynchComm'",
     "output_type": "error",
     "traceback": [
      "\u001b[0;31m---------------------------------------------------------------------------\u001b[0m",
      "\u001b[0;31mKeyError\u001b[0m                                  Traceback (most recent call last)",
      "\u001b[0;32m<ipython-input-9-c376b35ed40e>\u001b[0m in \u001b[0;36m<module>\u001b[0;34m()\u001b[0m\n\u001b[1;32m      5\u001b[0m     \u001b[0;32melse\u001b[0m\u001b[0;34m:\u001b[0m\u001b[0;34m\u001b[0m\u001b[0m\n\u001b[1;32m      6\u001b[0m         \u001b[0mname\u001b[0m \u001b[0;34m=\u001b[0m \u001b[0mstrat_name\u001b[0m\u001b[0;34m\u001b[0m\u001b[0m\n\u001b[0;32m----> 7\u001b[0;31m     \u001b[0mplt\u001b[0m\u001b[0;34m.\u001b[0m\u001b[0mplot\u001b[0m\u001b[0;34m(\u001b[0m\u001b[0mscores_2\u001b[0m\u001b[0;34m[\u001b[0m\u001b[0mstrat_name\u001b[0m\u001b[0;34m]\u001b[0m\u001b[0;34m,\u001b[0m \u001b[0mlabel\u001b[0m\u001b[0;34m=\u001b[0m\u001b[0mname\u001b[0m\u001b[0;34m)\u001b[0m\u001b[0;34m\u001b[0m\u001b[0m\n\u001b[0m\u001b[1;32m      8\u001b[0m \u001b[0mplt\u001b[0m\u001b[0;34m.\u001b[0m\u001b[0mtitle\u001b[0m\u001b[0;34m(\u001b[0m\u001b[0;34m'{} arms, {} players, horizon={}'\u001b[0m\u001b[0;34m.\u001b[0m\u001b[0mformat\u001b[0m\u001b[0;34m(\u001b[0m\u001b[0mK\u001b[0m\u001b[0;34m,\u001b[0m \u001b[0mnplayers\u001b[0m\u001b[0;34m,\u001b[0m \u001b[0mhorizon\u001b[0m\u001b[0;34m)\u001b[0m\u001b[0;34m)\u001b[0m\u001b[0;34m\u001b[0m\u001b[0m\n\u001b[1;32m      9\u001b[0m \u001b[0mplt\u001b[0m\u001b[0;34m.\u001b[0m\u001b[0mxlabel\u001b[0m\u001b[0;34m(\u001b[0m\u001b[0;34m't'\u001b[0m\u001b[0;34m)\u001b[0m\u001b[0;34m\u001b[0m\u001b[0m\n",
      "\u001b[0;31mKeyError\u001b[0m: 'SynchComm'"
     ]
    },
    {
     "data": {
      "text/plain": [
       "<Figure size 432x288 with 0 Axes>"
      ]
     },
     "metadata": {},
     "output_type": "display_data"
    }
   ],
   "source": [
    "fig = plt.figure()\n",
    "horizon_plot = -1\n",
    "for strat, strat_name, _ in strategies:\n",
    "    if strat_name=='SynchComm':\n",
    "        name=synchcommname\n",
    "    else:\n",
    "        name = strat_name\n",
    "    plt.plot(scores_2[strat_name][:horizon_plot], label=name)\n",
    "plt.title('{} arms, {} players, horizon={}'.format(K, nplayers, horizon))\n",
    "plt.xlabel('t')\n",
    "plt.ylabel('regret')\n",
    "plt.legend()\n",
    "fig.savefig('figures/K{}_M{}_delta{}'.format(K, nplayers, (int)(1000*(means[0]-means[1]))))\n",
    "plt.show()"
   ]
  },
  {
   "cell_type": "markdown",
   "metadata": {},
   "source": [
    "# Simulating for several Deltas"
   ]
  },
  {
   "cell_type": "code",
   "execution_count": 14,
   "metadata": {},
   "outputs": [],
   "source": [
    "try:\n",
    "    del scores_2\n",
    "except:\n",
    "    pass\n",
    "    \n",
    "horizon = 500000\n",
    "K = 9\n",
    "deltas = np.linspace(0.001, 0.0001, 10)\n",
    "nplayers = 6\n",
    "n_simu = 200\n",
    "\n",
    "strategies = [(MCTopM, 'MCTopM', {'M':nplayers}), (SynchComm, 'SynchComm', {})]\n",
    "\n",
    "# try to load for a warm restart\n",
    "try:\n",
    "    scores_delta = np.load('scores/scores_delta.npy').item()\n",
    "except FileNotFoundError:\n",
    "    scores_delta = {}\n",
    "    \n",
    "try:  \n",
    "    raw_scores_delta = np.load('scores/raw_scores_delta.npy').item()\n",
    "except:\n",
    "    raw_scores_delta = {}\n",
    "    \n",
    "# if we decide to interrupt the running code, it saves the current state of all the stored scores\n",
    "try:\n",
    "    for delta in deltas:\n",
    "        means = np.linspace(0.9, 0.9-delta*K, K)\n",
    "        for strat, strat_name, args in strategies:\n",
    "            if (delta, strat_name) not in scores_delta.keys():\n",
    "                try:\n",
    "                    # the number of runs to still do for this algo\n",
    "                    nalgo = n_simu-len(raw_scores_delta[(delta, strat_name)])\n",
    "                except KeyError:\n",
    "                    # case of algo not loaded (ie 0 run already done)\n",
    "                    raw_scores_delta[(delta, strat_name)] = []\n",
    "                    nalgo = n_simu\n",
    "                for i in tqdm.tqdm(range(nalgo), desc=\"Simulating {}\".format(strat_name)):\n",
    "                    MAB = FullSensingMultiPlayerMAB(means, nplayers=nplayers, strategy=strat, T=horizon, **args)\n",
    "                    r, _ = MAB.simulate(horizon)\n",
    "                    raw_scores_delta[(delta, strat_name)].append(r)            \n",
    "                scores_delta[(delta, strat_name)] = np.mean(raw_scores_delta[(delta, strat_name)], axis=0)\n",
    "\n",
    "                del raw_scores_delta[(delta, strat_name)]\n",
    "                del r\n",
    "    \n",
    "    # also saves the scores if we ran the whole algorithm without interrupting\n",
    "    np.save('scores/raw_scores_delta.npy', raw_scores_delta)\n",
    "    np.save('scores/scores_delta.npy', scores_delta)\n",
    "    \n",
    "except KeyboardInterrupt:\n",
    "    print('Number of tries ran for delta=%f and %s : %d' %(delta, strat_name, len(raw_scores_delta[(delta, strat_name)])))\n",
    "    np.save('scores/raw_scores_delta.npy', raw_scores_delta)\n",
    "    np.save('scores/scores_delta.npy', scores_delta)\n",
    "    del raw_scores_delta"
   ]
  },
  {
   "cell_type": "code",
   "execution_count": 15,
   "metadata": {},
   "outputs": [],
   "source": [
    "deltas = np.unique(np.array(list(scores_delta.keys()))[:, 0]).astype(float)\n",
    "scores_delta_end = {}\n",
    "for strat, strat_name, _ in strategies:\n",
    "    scores_delta_end[strat_name] = np.zeros(len(deltas))\n",
    "    for i, delta in enumerate(deltas):\n",
    "        scores_delta_end[strat_name][i] = scores_delta[(delta, strat_name)][horizon-1]"
   ]
  },
  {
   "cell_type": "code",
   "execution_count": 17,
   "metadata": {},
   "outputs": [
    {
     "data": {
      "image/png": "[encoded data removed]",
      "text/plain": [
       "<matplotlib.figure.Figure at 0x7f3e51348f60>"
      ]
     },
     "metadata": {},
     "output_type": "display_data"
    }
   ],
   "source": [
    "fig = plt.figure()\n",
    "for strat, strat_name, _ in strategies:\n",
    "    if strat_name=='SynchComm':\n",
    "        name=synchcommname\n",
    "    else:\n",
    "        name = strat_name\n",
    "    plt.plot(np.array(deltas), scores_delta_end[strat_name], '+', label=name)\n",
    "plt.legend()\n",
    "plt.xlabel('delta')\n",
    "plt.ylabel('regret')\n",
    "plt.title('{} arms, {} players, horizon={}'.format(K, nplayers, horizon))\n",
    "fig.savefig('figures/varyingdelta_K{}_M{}_T{}'.format(K, nplayers, horizon))\n",
    "plt.show()"
   ]
  },
  {
   "cell_type": "code",
   "execution_count": 62,
   "metadata": {},
   "outputs": [
    {
     "data": {
      "image/png": "[encoded data removed]",
      "text/plain": [
       "<matplotlib.figure.Figure at 0x7fd934c36748>"
      ]
     },
     "metadata": {},
     "output_type": "display_data"
    }
   ],
   "source": [
    "fig = plt.figure()\n",
    "for strat, strat_name, _ in strategies:\n",
    "    if strat_name=='SynchComm':\n",
    "        name=synchcommname\n",
    "    else:\n",
    "        name = strat_name\n",
    "    plt.plot(np.log(np.array(1/deltas)), np.log(scores_delta_end[strat_name]), '-+', label=name)\n",
    "plt.legend()\n",
    "plt.xlabel('log(1/delta)')\n",
    "plt.ylabel('log(R)')\n",
    "plt.title('{} arms, {} players, horizon={}'.format(K, nplayers, horizon))\n",
    "fig.savefig('figures/logvaryingdelta_K{}_M{}_T{}'.format(K, nplayers, horizon))\n",
    "plt.show()"
   ]
  },
  {
   "cell_type": "code",
   "execution_count": 44,
   "metadata": {},
   "outputs": [
    {
     "data": {
      "image/png": "[encoded data removed]",
      "text/plain": [
       "<matplotlib.figure.Figure at 0x7fd964a42a90>"
      ]
     },
     "metadata": {},
     "output_type": "display_data"
    }
   ],
   "source": [
    "strat_name='MCTopM'\n",
    "fig = plt.figure()\n",
    "plt.plot(np.log(np.array(1/deltas)), np.log(scores_delta_end[strat_name]), '+')\n",
    "plt.xlabel('log(1/delta)')\n",
    "plt.ylabel('log(R)')\n",
    "plt.title('{} {} arms, {} players, horizon={}'.format(strat_name, K, nplayers, horizon))\n",
    "fig.savefig('figures/{}_varyingdelta_K{}_M{}_T{}'.format(strat_name, K, nplayers, horizon))\n",
    "plt.show()"
   ]
  },
  {
   "cell_type": "code",
   "execution_count": 45,
   "metadata": {},
   "outputs": [
    {
     "data": {
      "image/png": "[encoded data removed]",
      "text/plain": [
       "<matplotlib.figure.Figure at 0x7fd9349b99e8>"
      ]
     },
     "metadata": {},
     "output_type": "display_data"
    }
   ],
   "source": [
    "strat_name='SynchComm'\n",
    "fig = plt.figure()\n",
    "plt.plot(np.log(1/np.array(deltas)), np.log(scores_delta_end[strat_name]), '+')\n",
    "plt.xlabel('log(1/delta)')\n",
    "plt.ylabel('log(R)')\n",
    "plt.title('{} {} arms, {} players, horizon={}'.format(strat_name, K, nplayers, horizon))\n",
    "fig.savefig('figures/{}_varyingdelta_K{}_M{}_T{}'.format(strat_name, K, nplayers, horizon))\n",
    "plt.show()"
   ]
  },
  {
   "cell_type": "code",
   "execution_count": null,
   "metadata": {},
   "outputs": [],
   "source": []
  }
 ],
 "metadata": {
  "kernelspec": {
   "display_name": "Python 3",
   "language": "python",
   "name": "python3"
  },
  "language_info": {
   "codemirror_mode": {
    "name": "ipython",
    "version": 3
   },
   "file_extension": ".py",
   "mimetype": "text/x-python",
   "name": "python",
   "nbconvert_exporter": "python",
   "pygments_lexer": "ipython3",
   "version": "3.6.5"
  }
 },
 "nbformat": 4,
 "nbformat_minor": 2
}
