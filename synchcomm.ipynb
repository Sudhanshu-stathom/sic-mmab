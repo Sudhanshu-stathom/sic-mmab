{
 "cells": [
  {
   "cell_type": "code",
   "execution_count": null,
   "metadata": {},
   "outputs": [],
   "source": [
    "import numpy as np\n",
    "import matplotlib.pyplot as plt\n",
    "import tqdm\n",
    "from bandits import *\n",
    "from strategies import *"
   ]
  },
  {
   "cell_type": "code",
   "execution_count": null,
   "metadata": {},
   "outputs": [],
   "source": [
    "# plot parameters\n",
    "plt.rcParams.update({\n",
    "    \"font.family\": \"serif\",  # use serif/main font for text elements\n",
    "    \"text.usetex\": True,     # use inline math for ticks\n",
    "    \"pgf.rcfonts\": False,    # don't setup fonts from rc parameters\n",
    "    \"pgf.preamble\": [\n",
    "         \"\\\\usepackage{units}\",          # load additional packages\n",
    "         \"\\\\usepackage{metalogo}\",\n",
    "         \"\\\\usepackage{unicode-math}\",   # unicode math setup\n",
    "         r\"\\setmathfont{xits-math.otf}\",\n",
    "         r\"\\setmainfont{DejaVu Serif}\",  # serif font via preamble\n",
    "         ]\n",
    "})"
   ]
  },
  {
   "cell_type": "code",
   "execution_count": null,
   "metadata": {},
   "outputs": [],
   "source": [
    "synchcommname = 'SIC-MMAB'"
   ]
  },
  {
   "cell_type": "markdown",
   "metadata": {},
   "source": [
    "# Simulate"
   ]
  },
  {
   "cell_type": "code",
   "execution_count": null,
   "metadata": {},
   "outputs": [],
   "source": [
    "# simulation parameters\n",
    "horizon = 500000\n",
    "K = 9\n",
    "means = np.linspace(0.9, 0.89, K)\n",
    "nplayers = 6\n",
    "n_simu = 2\n",
    "\n",
    "# list of strategies to compare\n",
    "strategies = [(MCTopM, 'MCTopM', {'M':nplayers}), (SynchComm, 'SynchComm', {})]\n",
    "\n",
    "# try to load for a warm restart\n",
    "try:\n",
    "    scores_1 = np.load('scores/scores_1.npy', allow_pickle=True).item()\n",
    "except FileNotFoundError:\n",
    "    scores_1 = {}\n",
    "    \n",
    "try:  \n",
    "    raw_scores_1 = np.load('scores/raw_scores_1.npy', allow_pickle=True).item()\n",
    "except FileNotFoundError:\n",
    "    raw_scores_1 = {}\n",
    "    \n",
    "# if we decide to interrupt the running code, it saves the current state of all the stored scores\n",
    "try:\n",
    "    for strat, strat_name, args in strategies:\n",
    "        if strat_name not in scores_1.keys():\n",
    "            try:\n",
    "                # the number of runs to run for this algo\n",
    "                nalgo = n_simu-len(raw_scores_1[strat_name])\n",
    "            except KeyError:\n",
    "                # case of algo not loaded (ie 0 run already done)\n",
    "                raw_scores_1[strat_name] = []\n",
    "                nalgo = n_simu\n",
    "            for i in tqdm.tqdm(range(nalgo), desc=\"Simulating {}\".format(strat_name)):\n",
    "                MAB = FullSensingMultiPlayerMAB(means, nplayers=nplayers, strategy=strat, T=horizon, **args) # simulate a run with the chosen parameters\n",
    "                r, _ = MAB.simulate(horizon)\n",
    "                raw_scores_1[strat_name].append(r)            \n",
    "            scores_1[strat_name] = np.mean(raw_scores_1[strat_name], axis=0) # average on all runs\n",
    "        \n",
    "            del raw_scores_1[strat_name]\n",
    "            del r\n",
    "    \n",
    "    # also saves the scores if we ran the whole algorithm without interrupting\n",
    "    np.save('scores/raw_scores_1.npy', raw_scores_1)\n",
    "    np.save('scores/scores_1.npy', scores_1)\n",
    "    \n",
    "except KeyboardInterrupt:\n",
    "    # save in case of interruption\n",
    "    print('Number of tries ran for %s : %d' %(strat_name, len(raw_scores_1[strat_name])))\n",
    "    np.save('scores/raw_scores_1.npy', raw_scores_1)\n",
    "    np.save('scores/scores_1.npy', scores_1)\n",
    "    del raw_scores_1"
   ]
  },
  {
   "cell_type": "code",
   "execution_count": null,
   "metadata": {},
   "outputs": [],
   "source": [
    "# plot evolution of regret\n",
    "fig = plt.figure()\n",
    "horizon_plot = -1\n",
    "ls = ['--', '-']\n",
    "for i,z in enumerate(strategies):\n",
    "    strat, strat_name, _ = z\n",
    "    if strat_name=='SynchComm':\n",
    "        name=synchcommname\n",
    "    else:\n",
    "        name = strat_name\n",
    "    plt.plot(scores_1[strat_name][:horizon_plot], ls[i], label=name)\n",
    "plt.title('{} arms, {} players, horizon={}'.format(K, nplayers, horizon), fontsize=20)\n",
    "plt.xlabel('$t$', fontsize=20)\n",
    "plt.ylabel('Regret', fontsize=20)\n",
    "plt.legend(fontsize=14)\n",
    "plt.grid(alpha=0.5)\n",
    "fig.savefig('figures/K{}_M{}_delta{}.pgf'.format(K, nplayers, (int)(1000*(means[0]-means[1]))))\n",
    "plt.show()"
   ]
  },
  {
   "cell_type": "markdown",
   "metadata": {},
   "source": [
    "# Simulating for several Deltas"
   ]
  },
  {
   "cell_type": "code",
   "execution_count": null,
   "metadata": {},
   "outputs": [],
   "source": [
    "try:\n",
    "    del scores_1 # free memory space\n",
    "except:\n",
    "    pass\n",
    "\n",
    "# simulation parameters\n",
    "horizon = 500000\n",
    "K = 9\n",
    "deltas = np.linspace(0.001, 0.0001, 10)\n",
    "nplayers = 6\n",
    "n_simu = 2\n",
    "\n",
    "strategies = [(MCTopM, 'MCTopM', {'M':nplayers}), (SynchComm, 'SynchComm', {})] # strategies to compare\n",
    "\n",
    "# try to load for a warm restart\n",
    "try:\n",
    "    scores_delta = np.load('scores/scores_delta.npy', allow_pickle=True).item()\n",
    "except FileNotFoundError:\n",
    "    scores_delta = {}\n",
    "    \n",
    "try:  \n",
    "    raw_scores_delta = np.load('scores/raw_scores_delta.npy', allow_pickle=True).item()\n",
    "except FileNotFoundError:\n",
    "    raw_scores_delta = {}\n",
    "    \n",
    "# if we decide to interrupt the running code, it saves the current state of all the stored scores\n",
    "try:\n",
    "    for delta in deltas:\n",
    "        means = np.linspace(0.9, 0.9-delta*K, K) # generate means for a given delta\n",
    "        for strat, strat_name, args in strategies:\n",
    "            if (delta, strat_name) not in scores_delta.keys():\n",
    "                try:\n",
    "                    # the number of runs to do for this algo\n",
    "                    nalgo = n_simu-len(raw_scores_delta[(delta, strat_name)])\n",
    "                except KeyError:\n",
    "                    # case of algo not loaded (ie 0 run already done)\n",
    "                    raw_scores_delta[(delta, strat_name)] = []\n",
    "                    nalgo = n_simu\n",
    "                for i in tqdm.tqdm(range(nalgo), desc=\"Simulating {}\".format(strat_name)):\n",
    "                    MAB = FullSensingMultiPlayerMAB(means, nplayers=nplayers, strategy=strat, T=horizon, **args) # 1 run with given parmaters\n",
    "                    r, _ = MAB.simulate(horizon)\n",
    "                    raw_scores_delta[(delta, strat_name)].append(r)            \n",
    "                scores_delta[(delta, strat_name)] = np.mean(raw_scores_delta[(delta, strat_name)], axis=0) # average on all runs\n",
    "\n",
    "                del raw_scores_delta[(delta, strat_name)]\n",
    "                del r\n",
    "    \n",
    "    # also saves the scores if we ran the whole algorithm without interrupting\n",
    "    np.save('scores/raw_scores_delta.npy', raw_scores_delta)\n",
    "    np.save('scores/scores_delta.npy', scores_delta)\n",
    "    \n",
    "except KeyboardInterrupt:\n",
    "    # save in case of interruption\n",
    "    print('Number of tries ran for delta=%f and %s : %d' %(delta, strat_name, len(raw_scores_delta[(delta, strat_name)])))\n",
    "    np.save('scores/raw_scores_delta.npy', raw_scores_delta)\n",
    "    np.save('scores/scores_delta.npy', scores_delta)\n",
    "    del raw_scores_delta"
   ]
  },
  {
   "cell_type": "code",
   "execution_count": null,
   "metadata": {},
   "outputs": [],
   "source": [
    "# only keep the final regret\n",
    "deltas = np.unique(np.array(list(scores_delta.keys()))[:, 0]).astype(float)\n",
    "scores_delta_end = {}\n",
    "for strat, strat_name, _ in strategies:\n",
    "    scores_delta_end[strat_name] = np.zeros(len(deltas))\n",
    "    for i, delta in enumerate(deltas):\n",
    "        scores_delta_end[strat_name][i] = scores_delta[(delta, strat_name)][horizon-1]"
   ]
  },
  {
   "cell_type": "code",
   "execution_count": null,
   "metadata": {},
   "outputs": [],
   "source": [
    "# plot the evolution of R_T as a function of Delta\n",
    "fig = plt.figure()\n",
    "ls = ['--+', '-+']\n",
    "for i,z  in enumerate(strategies):\n",
    "    strat, strat_name, _ = z\n",
    "    if strat_name=='SynchComm':\n",
    "        name=synchcommname\n",
    "    else:\n",
    "        name = strat_name\n",
    "    plt.plot(np.log(np.array(1/deltas)), np.log(scores_delta_end[strat_name]), ls[i], label=name)\n",
    "plt.legend(fontsize=14, loc='lower right')\n",
    "plt.xlabel('$\\log(1/\\Delta)$', fontsize=16)\n",
    "plt.ylabel('$\\log(R_T)$', fontsize=20)\n",
    "plt.grid(alpha=0.5)\n",
    "plt.title('{} arms, {} players, horizon={}'.format(K, nplayers, horizon), fontsize=20)\n",
    "fig.savefig('figures/logvaryingdelta_K{}_M{}_T{}.pgf'.format(K, nplayers, horizon))\n",
    "plt.show()"
   ]
  },
  {
   "cell_type": "code",
   "execution_count": null,
   "metadata": {},
   "outputs": [],
   "source": [
    "strat_name='MCTopM'\n",
    "fig = plt.figure()\n",
    "plt.plot(np.log(np.array(1/deltas)), np.log(scores_delta_end[strat_name]), '+')\n",
    "plt.xlabel('log(1/delta)')\n",
    "plt.ylabel('log(R)')\n",
    "plt.title('{} {} arms, {} players, horizon={}'.format(strat_name, K, nplayers, horizon))\n",
    "fig.savefig('figures/{}_varyingdelta_K{}_M{}_T{}'.format(strat_name, K, nplayers, horizon))\n",
    "plt.show()"
   ]
  },
  {
   "cell_type": "code",
   "execution_count": null,
   "metadata": {},
   "outputs": [],
   "source": [
    "strat_name='SynchComm'\n",
    "fig = plt.figure()\n",
    "plt.plot(np.log(1/np.array(deltas)), np.log(scores_delta_end[strat_name]), '+')\n",
    "plt.xlabel('log(1/delta)')\n",
    "plt.ylabel('log(R)')\n",
    "plt.title('{} {} arms, {} players, horizon={}'.format(strat_name, K, nplayers, horizon))\n",
    "fig.savefig('figures/{}_varyingdelta_K{}_M{}_T{}'.format(strat_name, K, nplayers, horizon))\n",
    "plt.show()"
   ]
  },
  {
   "cell_type": "code",
   "execution_count": null,
   "metadata": {},
   "outputs": [],
   "source": []
  }
 ],
 "metadata": {
  "kernelspec": {
   "display_name": "Python 3",
   "language": "python",
   "name": "python3"
  },
  "language_info": {
   "codemirror_mode": {
    "name": "ipython",
    "version": 3
   },
   "file_extension": ".py",
   "mimetype": "text/x-python",
   "name": "python",
   "nbconvert_exporter": "python",
   "pygments_lexer": "ipython3",
   "version": "3.6.5"
  }
 },
 "nbformat": 4,
 "nbformat_minor": 2
}
